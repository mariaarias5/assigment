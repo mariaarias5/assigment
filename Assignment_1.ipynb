{
 "cells": [
  {
   "cell_type": "markdown",
   "metadata": {},
   "source": [
    "## First Assignment"
   ]
  },
  {
   "cell_type": "markdown",
   "metadata": {},
   "source": [
    "#### 1) Apply the appropriate string methods to the **x** variable (as '.upper') to change it exactly to: \"$Dichlorodiphenyltrichloroethane$\"."
   ]
  },
  {
   "cell_type": "code",
   "execution_count": 1,
   "metadata": {},
   "outputs": [],
   "source": [
    "x = \"DiClOrod  IFeNi  lTRicLOr oETaNo  DiChlorod iPHeny lTrichL oroEThaNe\""
   ]
  },
  {
   "cell_type": "code",
   "execution_count": 2,
   "metadata": {},
   "outputs": [
    {
     "name": "stdout",
     "output_type": "stream",
     "text": [
      "𝐷𝑖𝑐ℎ𝑙𝑜𝑟𝑜𝑑𝑖𝑝ℎ𝑒𝑛𝑦𝑙𝑡𝑟𝑖𝑐ℎ𝑙𝑜𝑟𝑜𝑒𝑡ℎ𝑎𝑛𝑒\n"
     ]
    }
   ],
   "source": [
    "print(x.replace(\"DiClOrod  IFeNi  lTRicLOr oETaNo  DiChlorod iPHeny lTrichL oroEThaNe\", \"𝐷𝑖𝑐ℎ𝑙𝑜𝑟𝑜𝑑𝑖𝑝ℎ𝑒𝑛𝑦𝑙𝑡𝑟𝑖𝑐ℎ𝑙𝑜𝑟𝑜𝑒𝑡ℎ𝑎𝑛𝑒\" ))"
   ]
  },
  {
   "cell_type": "markdown",
   "metadata": {},
   "source": [
    "# 2) Assign respectively the values: 'word', 15, 3.14 and 'list' to variables A, B, C and D in a single line of code. Then, print them in that same order on a single line separated by a space, using only one print statement."
   ]
  },
  {
   "cell_type": "code",
   "execution_count": 3,
   "metadata": {},
   "outputs": [
    {
     "name": "stdout",
     "output_type": "stream",
     "text": [
      "{'A': 'word', 'B': '15', 'C': '3.14', 'D': 'list'}\n"
     ]
    }
   ],
   "source": [
    "Dict = {'A':'word', 'B':'15', 'C':'3.14', 'D':'list'}\n",
    "print(Dict)"
   ]
  },
  {
   "cell_type": "markdown",
   "metadata": {},
   "source": [
    "# 3) Use the **input()** function to receive an input in the form **'68.4 1.71'**, that is, two floating point numbers in a line separated by space. Then, assign these numbers to the variables **w** and **h** respectively, which represent an individual's weight and height (hint: take a look at the '.split()' method). With this data, calculate the individual's Body Mass Index (BMI) from the following relationship: \n",
    "    \n",
    "\\begin{equation}\n",
    "BMI = \\dfrac{weight}{height^2}\n",
    "\\end{equation}"
   ]
  },
  {
   "cell_type": "code",
   "execution_count": 13,
   "metadata": {},
   "outputs": [
    {
     "name": "stdout",
     "output_type": "stream",
     "text": [
      "Please enter your weight in kg and height in m separated by a space\n",
      "65 1.70\n",
      "You BMI is: 22.49134948096886\n"
     ]
    }
   ],
   "source": [
    "print(\"Please enter your weight in kg and height in m separated by a space\")\n",
    "w,h = input().split(\" \")\n",
    "w = float(w)\n",
    "h = float(h)\n",
    "\n",
    "BMI= w / (h**2)\n",
    "\n",
    "print(\"You BMI is:\", BMI)\n"
   ]
  },
  {
   "cell_type": "markdown",
   "metadata": {},
   "source": [
    "#### This value can also be classified according to ranges of values, following to the table below. Use conditional structures to classify and print the classification assigned to the individual. \n",
    "\n",
    "<center><img src=\"https://healthtravelguide.com/wp-content/uploads/2020/06/Body-mass-index-table.png\" width=\"30%\"><\\center>  \n",
    "\n",
    "\n",
    "(source: https://healthtravelguide.com/bmi-calculator/)"
   ]
  },
  {
   "cell_type": "code",
   "execution_count": 14,
   "metadata": {},
   "outputs": [
    {
     "name": "stdout",
     "output_type": "stream",
     "text": [
      "You have normal weight.\n"
     ]
    }
   ],
   "source": [
    "if BMI <= 18.4:\n",
    "    print(\"You are underweight.\")\n",
    "elif BMI <= 24.9:\n",
    "    print(\"You have normal weight.\")\n",
    "elif BMI <= 29.9:\n",
    "    print(\"You have pre-obesity\")\n",
    "elif BMI <= 34.9:\n",
    "    print(\"You have obesity class I.\")\n",
    "elif BMI <= 39.9:\n",
    "    print(\"You have obesity class II.\")\n",
    "else:\n",
    "    print(\"You have obesity class III.\")"
   ]
  },
  {
   "cell_type": "markdown",
   "metadata": {},
   "source": [
    "#### 4) Receive an integer as an input and, using a loop, calculate the factorial of this number, that is, the product of all the integers from one to the number provided. "
   ]
  },
  {
   "cell_type": "code",
   "execution_count": 17,
   "metadata": {},
   "outputs": [
    {
     "name": "stdout",
     "output_type": "stream",
     "text": [
      "Please, enter a number:5\n",
      "The facotrial number of  5 is 120\n"
     ]
    }
   ],
   "source": [
    "num = int(input(\"Please, enter a number:\"))\n",
    "\n",
    "factorial = 1\n",
    "\n",
    "for i in range (1, num + 1):\n",
    "    factorial = factorial * i\n",
    "\n",
    "print (\"The facotrial number of \", num, \"is\", factorial)"
   ]
  },
  {
   "cell_type": "markdown",
   "metadata": {},
   "source": [
    "#### 5) Using a while loop and the input function, read an indefinite number of integers until the number read is -1. Present the sum of all these numbers in the form of a print, excluding the -1 read at the end. "
   ]
  },
  {
   "cell_type": "code",
   "execution_count": 7,
   "metadata": {},
   "outputs": [
    {
     "name": "stdout",
     "output_type": "stream",
     "text": [
      "Enter an integer: 5\n",
      "Enter an integer: 2\n",
      "Enter an integer: -1\n",
      "The sum of the integers is 6\n"
     ]
    }
   ],
   "source": [
    "#define the list\n",
    "number = []\n",
    "\n",
    "while number!= -1:\n",
    "    user_input = int(input(\"Enter an integer: \"))\n",
    "    #add numbers to the list\n",
    "    number.append(user_input)\n",
    "    if user_input == -1:\n",
    "        break\n",
    "        \n",
    "total = sum(number)\n",
    "\n",
    "print(\"The sum of the integers is\",total)"
   ]
  },
  {
   "cell_type": "markdown",
   "metadata": {},
   "source": [
    "#### 6) Read the **first name** of an employee, his **amount of hours worked** and the **salary per hour** in a single line separated by commas. Next, calculate the **total salary** for this employee and show it to two decimal places."
   ]
  },
  {
   "cell_type": "code",
   "execution_count": null,
   "metadata": {},
   "outputs": [],
   "source": []
  },
  {
   "cell_type": "markdown",
   "metadata": {},
   "source": [
    "#### 7) Read three floating point values **A**, **B** and **C** respectively. Then calculate itens a, b, c, d and e: "
   ]
  },
  {
   "cell_type": "code",
   "execution_count": 2,
   "metadata": {},
   "outputs": [
    {
     "name": "stdout",
     "output_type": "stream",
     "text": [
      "Enter first value : 4 \n",
      "Enter second value: 8\n",
      "Enter third value: 7.5\n"
     ]
    }
   ],
   "source": [
    "A = float(input(\"Enter first value : \"))\n",
    "B = float(input(\"Enter second value: \"))\n",
    "C = float(input(\"Enter third value: \"))"
   ]
  },
  {
   "cell_type": "markdown",
   "metadata": {},
   "source": [
    "    a) the area of the triangle rectangle with A as the base and C as the height."
   ]
  },
  {
   "cell_type": "code",
   "execution_count": 3,
   "metadata": {},
   "outputs": [
    {
     "name": "stdout",
     "output_type": "stream",
     "text": [
      "The area of the triangle rectangle is:  15.0\n"
     ]
    }
   ],
   "source": [
    "area = (A*C)/ 2\n",
    "print (\"The area of the triangle rectangle is: \",area)"
   ]
  },
  {
   "cell_type": "markdown",
   "metadata": {},
   "source": [
    "    b) the area of the circle of radius C. (pi = 3.14159) "
   ]
  },
  {
   "cell_type": "code",
   "execution_count": 4,
   "metadata": {},
   "outputs": [
    {
     "name": "stdout",
     "output_type": "stream",
     "text": [
      "The area of the circle is 176.7144375\n"
     ]
    }
   ],
   "source": [
    "pi = 3.14159\n",
    "area_circle = (pi*(C**2))\n",
    "print (\"The area of the circle is\", area_circle)"
   ]
  },
  {
   "cell_type": "markdown",
   "metadata": {},
   "source": [
    "    c) the area of the trapezoid that has A and B for bases and C for height. "
   ]
  },
  {
   "cell_type": "code",
   "execution_count": 7,
   "metadata": {},
   "outputs": [
    {
     "name": "stdout",
     "output_type": "stream",
     "text": [
      "The area of the trapezoid is:  60.0\n"
     ]
    }
   ],
   "source": [
    "t = 10\n",
    "area_tra = ((A+B)/2)*t\n",
    "print (\"The area of the trapezoid is: \", area_tra)"
   ]
  },
  {
   "cell_type": "markdown",
   "metadata": {},
   "source": [
    "    d) the area of the square that has side B. "
   ]
  },
  {
   "cell_type": "code",
   "execution_count": 8,
   "metadata": {},
   "outputs": [
    {
     "name": "stdout",
     "output_type": "stream",
     "text": [
      "The area of the square is, 64.0\n"
     ]
    }
   ],
   "source": [
    "area_square = B**2\n",
    "print (\"The area of the square is,\", area_square)"
   ]
  },
  {
   "cell_type": "markdown",
   "metadata": {},
   "source": [
    "    e) the area of the rectangle that has sides A and B. "
   ]
  },
  {
   "cell_type": "code",
   "execution_count": 9,
   "metadata": {},
   "outputs": [
    {
     "name": "stdout",
     "output_type": "stream",
     "text": [
      "The area of the rectangle is: 32.0\n"
     ]
    }
   ],
   "source": [
    "area_rectangle = A*B\n",
    "print (\"The area of the rectangle is:\", area_rectangle)"
   ]
  },
  {
   "cell_type": "markdown",
   "metadata": {},
   "source": [
    "#### 8) Read **the values a, b and c** and calculate the **roots of the second degree equation** $ax^{2}+bx+c=0$ using [this formula](https://en.wikipedia.org/wiki/Quadratic_equation). If it is not possible to calculate the roots, display the message **“There are no real roots”**. "
   ]
  },
  {
   "cell_type": "code",
   "execution_count": 11,
   "metadata": {},
   "outputs": [
    {
     "name": "stdout",
     "output_type": "stream",
     "text": [
      "Enter value a: 4\n",
      "Enter value b:  5\n",
      "Enter value c: 1\n",
      "the solutions are:  (-1+0j) and (-0.25+0j)\n"
     ]
    }
   ],
   "source": [
    "#Solve the quadratic equation  ax**2 + bx + c = 0\n",
    "#we need to import math module\n",
    "import cmath\n",
    "\n",
    "a = float(input(\"Enter value a: \"))\n",
    "b = float(input(\"Enter value b:  \"))\n",
    "c = float(input(\"Enter value c: \"))\n",
    "#Calculate the root\n",
    "r = (b**2) - (4*a*c)\n",
    "\n",
    "#find the possible solutions\n",
    "sol1 = (-b-cmath.sqrt(r))/(2*a)\n",
    "sol2 = (-b+cmath.sqrt(r))/(2*a)\n",
    "\n",
    "print(\"the solutions are: \", sol1, \"and\", sol2)"
   ]
  },
  {
   "cell_type": "markdown",
   "metadata": {},
   "source": [
    "#### 9) Read four floating point numerical values corresponding to the coordinates of two geographical coordinates in the cartesian plane. Each point will come in a line with its coordinates separated by space. Then calculate and show the distance between these two points. \n",
    "\n",
    "(obs: $d=\\sqrt{(x_1-x_2)^2 + (y_1-y_2)^2}$)"
   ]
  },
  {
   "cell_type": "code",
   "execution_count": 13,
   "metadata": {},
   "outputs": [
    {
     "name": "stdout",
     "output_type": "stream",
     "text": [
      "Please enter two coordinates separated by a space\n",
      "5.3 6\n",
      "Please enter two coordinates separated by a space\n",
      "7.4 1.4\n",
      "distance between the two points is :  5.056678751908213\n"
     ]
    }
   ],
   "source": [
    "print(\"Please enter the coordinates separated by a space\")\n",
    "x1, y1 = input().split(\" \")\n",
    "x1 = float(x1)\n",
    "y1 = float(y1)\n",
    "print(\"Please enter the coordinates separated by a space\")\n",
    "x2, y2 = input().split(\" \")\n",
    "x2 = float(x2)\n",
    "y2 = float(y2)\n",
    "result= ((((x2 - x1 )**2) + ((y2-y1)**2) )**0.5)\n",
    "print(\"distance between the two points is : \",result)"
   ]
  },
  {
   "cell_type": "markdown",
   "metadata": {},
   "source": [
    "#### 10) Read **two floating point numbers** on a line that represent **coordinates of a cartesian point**. With this, use **conditional structures** to determine if you are at the origin, printing the message **'origin'**; in one of the axes, printing **'x axis'** or **'y axis'**; or in one of the four quadrants, printing **'q1'**, **'q2**', **'q3'** or **'q4'**. "
   ]
  },
  {
   "cell_type": "code",
   "execution_count": 19,
   "metadata": {},
   "outputs": [
    {
     "name": "stdout",
     "output_type": "stream",
     "text": [
      "Please enter two coordinates separated by a space\n",
      "7 -7\n",
      "lies in q4\n"
     ]
    }
   ],
   "source": [
    "print(\"Please enter two coordinates separated by a space\")\n",
    "px, py = input().split(\" \")\n",
    "px = float(px)\n",
    "py = float(py)\n",
    "\n",
    "\n",
    "def quadrant(px, py):\n",
    "    if (px > 0 and py > 0):\n",
    "        print (\"lies in q1\")\n",
    " \n",
    "    elif (px < 0 and py > 0):\n",
    "        print (\"lies in q2\")\n",
    "         \n",
    "    elif (px < 0 and py < 0):\n",
    "        print (\"lies in q3\")\n",
    "     \n",
    "    elif (px > 0 and py < 0):\n",
    "        print (\"lies in q4\")\n",
    "         \n",
    "    elif (px == 0 and py > 0):\n",
    "        print (\"lies at y axis\")\n",
    "     \n",
    "    elif (px == 0 and py < 0):\n",
    "        print (\"lies at y axis\")\n",
    "     \n",
    "    elif (py == 0 and px < 0):\n",
    "        print (\"lies at x axis\")\n",
    "     \n",
    "    elif (py == 0 and px > 0):\n",
    "        print(\"lies at x axis\")\n",
    "     \n",
    "    else:\n",
    "        print (\"origin\")\n",
    "\n",
    "quadrant(px, py)"
   ]
  },
  {
   "cell_type": "markdown",
   "metadata": {},
   "source": [
    "#### 11) Read an integer that represents a phone code for international dialing.  \n",
    "#### Then, inform to which country the code belongs to, considering the generated table below:\n",
    "(You just need to consider the first 10 entries)  "
   ]
  },
  {
   "cell_type": "code",
   "execution_count": 20,
   "metadata": {},
   "outputs": [
    {
     "data": {
      "text/html": [
       "<div>\n",
       "<style scoped>\n",
       "    .dataframe tbody tr th:only-of-type {\n",
       "        vertical-align: middle;\n",
       "    }\n",
       "\n",
       "    .dataframe tbody tr th {\n",
       "        vertical-align: top;\n",
       "    }\n",
       "\n",
       "    .dataframe thead th {\n",
       "        text-align: right;\n",
       "    }\n",
       "</style>\n",
       "<table border=\"1\" class=\"dataframe\">\n",
       "  <thead>\n",
       "    <tr style=\"text-align: right;\">\n",
       "      <th></th>\n",
       "      <th>Country</th>\n",
       "      <th>Country calling code</th>\n",
       "    </tr>\n",
       "  </thead>\n",
       "  <tbody>\n",
       "    <tr>\n",
       "      <th>0</th>\n",
       "      <td>Austria</td>\n",
       "      <td>43</td>\n",
       "    </tr>\n",
       "    <tr>\n",
       "      <th>1</th>\n",
       "      <td>Belgium</td>\n",
       "      <td>32</td>\n",
       "    </tr>\n",
       "    <tr>\n",
       "      <th>2</th>\n",
       "      <td>Bulgaria</td>\n",
       "      <td>359</td>\n",
       "    </tr>\n",
       "    <tr>\n",
       "      <th>3</th>\n",
       "      <td>Croatia</td>\n",
       "      <td>385</td>\n",
       "    </tr>\n",
       "    <tr>\n",
       "      <th>4</th>\n",
       "      <td>Cyprus</td>\n",
       "      <td>357</td>\n",
       "    </tr>\n",
       "    <tr>\n",
       "      <th>5</th>\n",
       "      <td>Czech Republic</td>\n",
       "      <td>420</td>\n",
       "    </tr>\n",
       "    <tr>\n",
       "      <th>6</th>\n",
       "      <td>Denmark</td>\n",
       "      <td>45</td>\n",
       "    </tr>\n",
       "    <tr>\n",
       "      <th>7</th>\n",
       "      <td>Estonia</td>\n",
       "      <td>372</td>\n",
       "    </tr>\n",
       "    <tr>\n",
       "      <th>8</th>\n",
       "      <td>Finland</td>\n",
       "      <td>358</td>\n",
       "    </tr>\n",
       "    <tr>\n",
       "      <th>9</th>\n",
       "      <td>France</td>\n",
       "      <td>33</td>\n",
       "    </tr>\n",
       "    <tr>\n",
       "      <th>10</th>\n",
       "      <td>Germany</td>\n",
       "      <td>49</td>\n",
       "    </tr>\n",
       "    <tr>\n",
       "      <th>11</th>\n",
       "      <td>Greece</td>\n",
       "      <td>30</td>\n",
       "    </tr>\n",
       "    <tr>\n",
       "      <th>12</th>\n",
       "      <td>Hungary</td>\n",
       "      <td>36</td>\n",
       "    </tr>\n",
       "    <tr>\n",
       "      <th>13</th>\n",
       "      <td>Iceland</td>\n",
       "      <td>354</td>\n",
       "    </tr>\n",
       "    <tr>\n",
       "      <th>14</th>\n",
       "      <td>Ireland</td>\n",
       "      <td>353</td>\n",
       "    </tr>\n",
       "    <tr>\n",
       "      <th>15</th>\n",
       "      <td>Italy</td>\n",
       "      <td>39</td>\n",
       "    </tr>\n",
       "    <tr>\n",
       "      <th>16</th>\n",
       "      <td>Latvia</td>\n",
       "      <td>371</td>\n",
       "    </tr>\n",
       "    <tr>\n",
       "      <th>17</th>\n",
       "      <td>Liechtenstein</td>\n",
       "      <td>423</td>\n",
       "    </tr>\n",
       "    <tr>\n",
       "      <th>18</th>\n",
       "      <td>Lithuania</td>\n",
       "      <td>370</td>\n",
       "    </tr>\n",
       "    <tr>\n",
       "      <th>19</th>\n",
       "      <td>Luxembourg</td>\n",
       "      <td>352</td>\n",
       "    </tr>\n",
       "  </tbody>\n",
       "</table>\n",
       "</div>"
      ],
      "text/plain": [
       "           Country Country calling code\n",
       "0          Austria                   43\n",
       "1          Belgium                   32\n",
       "2         Bulgaria                  359\n",
       "3          Croatia                  385\n",
       "4           Cyprus                  357\n",
       "5   Czech Republic                  420\n",
       "6          Denmark                   45\n",
       "7          Estonia                  372\n",
       "8          Finland                  358\n",
       "9           France                   33\n",
       "10         Germany                   49\n",
       "11          Greece                   30\n",
       "12         Hungary                   36\n",
       "13         Iceland                  354\n",
       "14         Ireland                  353\n",
       "15           Italy                   39\n",
       "16          Latvia                  371\n",
       "17   Liechtenstein                  423\n",
       "18       Lithuania                  370\n",
       "19      Luxembourg                  352"
      ]
     },
     "execution_count": 20,
     "metadata": {},
     "output_type": "execute_result"
    }
   ],
   "source": [
    "import pandas as pd\n",
    "df = pd.read_html('https://en.wikipedia.org/wiki/Telephone_numbers_in_Europe')[1]\n",
    "df = df.iloc[:,:2]\n",
    "df.head(20)"
   ]
  },
  {
   "cell_type": "code",
   "execution_count": 7,
   "metadata": {},
   "outputs": [
    {
     "name": "stdout",
     "output_type": "stream",
     "text": [
      "Please, enter your code: 43\n",
      "Austria\n"
     ]
    }
   ],
   "source": [
    "phone_codes = {'43': 'Austria', '32': 'Belgium', '359': 'Bulgaria', '385': 'Croatia', '357': 'Cyprus', '420': 'Czech Republic', '45': 'Denmark', '372': 'Estonia', '358': 'Finland', '33': 'France', '49': 'Germany'}\n",
    "my_code = str(input (\"Please, enter your code: \"))\n",
    "print (phone_codes[my_code])"
   ]
  },
  {
   "cell_type": "markdown",
   "metadata": {},
   "source": [
    "#### 12) Write a piece of code that reads 6 numbers in a row. Next, show the number of positive values entered. On the next line, print the average of the values to one decimal place. "
   ]
  },
  {
   "cell_type": "code",
   "execution_count": null,
   "metadata": {},
   "outputs": [],
   "source": [
    "import math\n",
    "user_input = input(\"Enter Numbers\\n\").split(\" \")\n",
    "#strip is used to remove the white space. Not mandatory\n",
    "all_numbers = [float(x.strip()) for x in user_input]\n",
    "for i in all_numbers:\n",
    "    #check condition\n",
    "    if i >= 0:\n",
    "        pos_count += 1\n",
    "    else:\n",
    "        break\n",
    "print(\"Positive numbers in the list: \", pos_count)\n",
    "\n",
    "total = math.fsum(all_numbers)\n",
    "avg = total / len(all_numbers)\n",
    "print(\"The average is \" + str(round(avg, 1)))"
   ]
  },
  {
   "cell_type": "markdown",
   "metadata": {},
   "source": [
    "#### 13) Read an integer **N**. Then print the **square of each of the even values**, from 1 to N, including N, if applicable, arranged one per line. "
   ]
  },
  {
   "cell_type": "code",
   "execution_count": 19,
   "metadata": {},
   "outputs": [
    {
     "name": "stdout",
     "output_type": "stream",
     "text": [
      "Please, enter a number:5\n",
      "4\n",
      "16\n"
     ]
    }
   ],
   "source": [
    "N = int(input(\"Please, enter a number:\"))\n",
    "values = list(range(1, N+1))\n",
    "for i in values:\n",
    "    if int(i)%2==0:\n",
    "        print (i*i)"
   ]
  },
  {
   "cell_type": "markdown",
   "metadata": {},
   "source": [
    "#### 14) Using **input()**, read an integer and print its classification as **'even / odd'** and **'positive / negative'** . The two classes for the number must be printed on the same line separated by a space. In the case of zero, print only **'null'**. "
   ]
  },
  {
   "cell_type": "code",
   "execution_count": 34,
   "metadata": {},
   "outputs": [
    {
     "name": "stdout",
     "output_type": "stream",
     "text": [
      "Please, enter a number: -7\n",
      "-7 is even and negative\n"
     ]
    }
   ],
   "source": [
    "n1 = int(input(\"Please, enter a number: \"))\n",
    "\n",
    "print (n1, \"is even\", end = '') if (n1%2)!= 0 else print (n1, \"is odd\", end = '')\n",
    "if (n1>0):\n",
    "    print (\" and positive\")\n",
    "elif (n1<0):\n",
    "    print ( \" and negative\" )\n",
    "else:\n",
    "    print (\" null\") "
   ]
  },
  {
   "cell_type": "markdown",
   "metadata": {},
   "source": [
    "## Challenge\n",
    "#### 15) Ordering problems are recurrent in the history of programming. Over time, several algorithms have been developed to fulfill this function. The simplest of these algorithms is the [**Bubble Sort**](https://en.wikipedia.org/wiki/Bubble_sort), which is based on comparisons of elements two by two in a loop of passes through the elements. Your mission, if you decide to accept it, will be to input six whole numbers ramdonly ordered. Then implement the **Bubble Sort** principle to order these six numbers **using only loops and conditionals**.  \n",
    "#### At the end, print the six numbers in ascending order on a single line separated by spaces. "
   ]
  },
  {
   "cell_type": "code",
   "execution_count": 4,
   "metadata": {},
   "outputs": [
    {
     "name": "stdout",
     "output_type": "stream",
     "text": [
      "Input six integers:7 45 66 87 124 1\n",
      "1 7 45 66 87 124\n"
     ]
    }
   ],
   "source": [
    "import random\n",
    "\n",
    "def bubbleSort (w_list):\n",
    "    for passnum in range (len(w_list)-1,0,-1):\n",
    "        for i in range(passnum):\n",
    "            if w_list[i]>w_list[i+1]:\n",
    "                temporal = w_list[i]\n",
    "                w_list[i]= w_list [i+1]\n",
    "                w_list[i+1]= temporal\n",
    "\n",
    "w_list = list(map(int, input(\"Input six integers:\").split()))\n",
    "\n",
    "random.shuffle (w_list)\n",
    "\n",
    "bubbleSort(w_list)\n",
    "print(*w_list)"
   ]
  },
  {
   "cell_type": "code",
   "execution_count": null,
   "metadata": {},
   "outputs": [],
   "source": []
  }
 ],
 "metadata": {
  "kernelspec": {
   "display_name": "Python 3",
   "language": "python",
   "name": "python3"
  },
  "language_info": {
   "codemirror_mode": {
    "name": "ipython",
    "version": 3
   },
   "file_extension": ".py",
   "mimetype": "text/x-python",
   "name": "python",
   "nbconvert_exporter": "python",
   "pygments_lexer": "ipython3",
   "version": "3.8.8"
  }
 },
 "nbformat": 4,
 "nbformat_minor": 4
}
