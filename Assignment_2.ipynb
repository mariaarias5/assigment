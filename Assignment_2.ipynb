{
 "cells": [
  {
   "cell_type": "markdown",
   "metadata": {},
   "source": [
    "## Second Assignment"
   ]
  },
  {
   "cell_type": "markdown",
   "metadata": {},
   "source": [
    "#### 1) Create a function called **\"even_squared\"** that receives an integer value **N**, and returns a list containing, in ascending order, the square of each of the even values, from 1 to N, including N if applicable. "
   ]
  },
  {
   "cell_type": "code",
   "execution_count": 1,
   "metadata": {},
   "outputs": [
    {
     "name": "stdout",
     "output_type": "stream",
     "text": [
      "Please, enter a number:5\n",
      "4\n",
      "16\n"
     ]
    }
   ],
   "source": [
    "def even_squared():\n",
    "    N = int(input(\"Please, enter a number:\"))\n",
    "    values = list(range(1, N+1))\n",
    "    for i in values:\n",
    "        if int(i)%2==0:#check if even\n",
    "            print (i*i)\n",
    "even_squared()"
   ]
  },
  {
   "cell_type": "markdown",
   "metadata": {},
   "source": [
    "#### 2) Using a while loop and the **input()** function, read an indefinite amount of **integers** until the number read is **-1**. After this process, print two lists on the screen: The first containing the even integers, and the second containing the odd integers. Both must be in ascending order. "
   ]
  },
  {
   "cell_type": "code",
   "execution_count": 6,
   "metadata": {},
   "outputs": [
    {
     "name": "stdout",
     "output_type": "stream",
     "text": [
      "Enter an integer : 4\n",
      "Enter an integer : 8\n",
      "Enter an integer : 77\n",
      "Enter an integer : -1\n",
      "The even integers are [4, 8]\n",
      "The odd integers are [-1, 77]\n"
     ]
    }
   ],
   "source": [
    "#define the list\n",
    "number = []\n",
    "even = []\n",
    "odd = []\n",
    "\n",
    "while number!= -1:\n",
    "    user_input = int(input(\"Enter an integer : \"))\n",
    "    #add numbers to the list\n",
    "    number.append(user_input)\n",
    "    if user_input % 2 == 0:\n",
    "        even.append(user_input)\n",
    "    elif user_input % 2 != 0 :\n",
    "        odd.append(user_input)\n",
    "    if user_input == -1:\n",
    "        break\n",
    "even.sort()\n",
    "odd.sort()\n",
    "print(\"The even integers are\",even)\n",
    "print(\"The odd integers are\",odd)"
   ]
  },
  {
   "cell_type": "markdown",
   "metadata": {},
   "source": [
    "#### 3) Create a function called **\"even_account\"** that receives a list of integers, counts the number of existing even elements, and returns this count. "
   ]
  },
  {
   "cell_type": "code",
   "execution_count": 12,
   "metadata": {},
   "outputs": [
    {
     "name": "stdout",
     "output_type": "stream",
     "text": [
      "Please, enter elements of a list separated by space 7 4 1 2\n",
      "  2\n"
     ]
    }
   ],
   "source": [
    "count= 0\n",
    "input_string = input(\"Please, enter elements of a list separated by space \")\n",
    "even_account = input_string.split()\n",
    "\n",
    "for i in range(len(even_account)):\n",
    "    even_account[i] = int(even_account[i])\n",
    "\n",
    "for numbers in even_account:\n",
    "    if numbers % 2 == 0:\n",
    "        count +=1\n",
    "    \n",
    "print(\" \",count)\n"
   ]
  },
  {
   "cell_type": "markdown",
   "metadata": {},
   "source": [
    "#### 4) Create a function called **\"squared_list\"** that receives a list of integers and returns another list whose elements are the squares of the elements of the first. "
   ]
  },
  {
   "cell_type": "code",
   "execution_count": 16,
   "metadata": {},
   "outputs": [
    {
     "name": "stdout",
     "output_type": "stream",
     "text": [
      "Please, enter elements of a list separated by space 4 2 1\n",
      "[16, 4, 1]\n"
     ]
    }
   ],
   "source": [
    "input_string = input(\"Please, enter elements of a list separated by space \")\n",
    "squared_int = input_string.split()\n",
    "\n",
    "for i in range(len(squared_int)):\n",
    "    squared_int[i] = int(squared_int[i])\n",
    "squared_int = [squared_list ** 2 for squared_list in squared_list]\n",
    "\n",
    "print(squared_int)"
   ]
  },
  {
   "cell_type": "markdown",
   "metadata": {},
   "source": [
    "#### 5) Create a function called **\"descending\"** that receives two lists of integers and returns a single list, which contains all the elements in descending order, and may include repeated elements. "
   ]
  },
  {
   "cell_type": "code",
   "execution_count": 18,
   "metadata": {},
   "outputs": [
    {
     "name": "stdout",
     "output_type": "stream",
     "text": [
      "Please, enter elements of  the first list separated by space 4 5 2 1 5\n",
      "Please, enter elements of  the second list separated by space 7 8 5\n",
      "[1, 2, 4, 5, 5, 5, 7, 8]\n"
     ]
    }
   ],
   "source": [
    "input_list1 = input(\"Please, enter elements of  the first list separated by space \")\n",
    "list1 = input_list1.split()\n",
    "\n",
    "for i in range(len(list1)):\n",
    "    list1[i] = int(list1[i])\n",
    "\n",
    "input_list2 = input(\"Please, enter elements of  the second list separated by space \")\n",
    "list2 = input_list2.split()\n",
    "\n",
    "for i in range(len(list2)):\n",
    "    list2[i] = int(list2[i])\n",
    "    \n",
    "final_list = [*list1, *list2]\n",
    "sortedlist = sorted(final_list)\n",
    "print(sortedlist)"
   ]
  },
  {
   "cell_type": "markdown",
   "metadata": {},
   "source": [
    "#### 6) Create a function called **\"adding\"** that receives a list **A**, and an arbitrary number of integers as input. Return a new list containing the elements of **A** plus the integers passed as input, in the order in which they were given. Here is an example: \n",
    "\n",
    ">```python\n",
    ">>>> A = [10,20,30]\n",
    ">>>> adding(A, 4, 10, 50, 1)\n",
    "> [10, 20, 30, 4, 10, 50, 1]\n",
    "```"
   ]
  },
  {
   "cell_type": "code",
   "execution_count": 2,
   "metadata": {},
   "outputs": [
    {
     "name": "stdout",
     "output_type": "stream",
     "text": [
      "Please, enter elements desired separated by space: 4 8 7\n",
      "[4, 5, 9, 4, 8, 7]\n"
     ]
    }
   ],
   "source": [
    "def adding():\n",
    "    A = [4, 5, 9]\n",
    "    input1 = input(\"Please, enter elements desired separated by space: \")\n",
    "    randomlist = input1.split()\n",
    "    \n",
    "    for i in range(len(randomlist)):\n",
    "        randomlist[i] = int(randomlist[i])\n",
    "    \n",
    "    together_list = A + randomlist\n",
    "    print(together_list)\n",
    "adding()"
   ]
  },
  {
   "cell_type": "markdown",
   "metadata": {},
   "source": [
    "#### 7) Create a function called **\"intersection\"** that receives two input lists and returns another list with the values that belong to the two lists simultaneously (intersection) without repetition of values and in ascending order. Use only lists (do not use sets); loops and conditionals. See the example: \n",
    "\n",
    ">```python\n",
    ">>>> A = [-2, 0, 1, 2, 3]\n",
    ">>>> B = [-1, 2, 3, 6, 8]\n",
    ">>>> intersection(A,B)\n",
    "> [2, 3]\n",
    "```"
   ]
  },
  {
   "cell_type": "code",
   "execution_count": 4,
   "metadata": {},
   "outputs": [
    {
     "name": "stdout",
     "output_type": "stream",
     "text": [
      "Please, enter elements of  the first list separated by space 7 8 4 5 6 9 2\n",
      "Please, enter elements of  the second list separated by space 2 1 4 5 7 4\n",
      "[2, 4, 5, 7]\n"
     ]
    }
   ],
   "source": [
    "def intersection ():\n",
    "    num1 = input(\"Please, enter elements of  the first list separated by space \")\n",
    "    listn1 = num1.split()\n",
    "    \n",
    "    for i in range(len(listn1)):\n",
    "        listn1[i] = int(listn1[i])\n",
    "    \n",
    "    num2 = input(\"Please, enter elements of  the second list separated by space \")\n",
    "    listn2 = num2.split()\n",
    "    \n",
    "    for i in range(len(listn2)):\n",
    "        listn2[i] = int(listn2[i])\n",
    "    final_list = list(set(listn1).intersection(listn2))\n",
    "    final_list.sort()\n",
    "    print (final_list)\n",
    "intersection ()"
   ]
  },
  {
   "cell_type": "markdown",
   "metadata": {},
   "source": [
    "#### 8) Create a function called **\"union\"** that receives two input lists and returns another list with the union of the elements of the two received, without repetition of elements and in ascending order. Use only lists (do not use sets); loops and conditionals. See the example: \n",
    "\n",
    ">```python\n",
    ">>>> A = [-2, 0, 1, 2]\n",
    ">>>> B = [-1, 1, 2, 10]\n",
    ">>>> union(A,B)\n",
    "> [-2, ,-1, 0, 1, 2, 10]\n",
    "```"
   ]
  },
  {
   "cell_type": "code",
   "execution_count": 17,
   "metadata": {},
   "outputs": [
    {
     "name": "stdout",
     "output_type": "stream",
     "text": [
      "Please, enter elements of  the first list separated by space 47 7 5 8\n",
      "Please, enter elements of  the second list separated by space 1 4 2 6\n",
      "[1, 2, 4, 5, 6, 7, 8, 47]\n"
     ]
    }
   ],
   "source": [
    "def unionlist ():\n",
    "    list1 = input(\"Please, enter elements of  the first list separated by space \")\n",
    "    listnumber1 = list1.split()\n",
    "    \n",
    "    for i in range(len(listnumber1)):\n",
    "        listnumber1[i] = int(listnumber1[i])\n",
    "    \n",
    "    list2 = input(\"Please, enter elements of  the second list separated by space \")\n",
    "    listnumber2 = list2.split()\n",
    "    \n",
    "    for i in range(len(listnumber2)):\n",
    "        listnumber2[i] = int(listnumber2[i])\n",
    "    final_list = list(set().union(listnumber1, listnumber2))\n",
    "    print(final_list)\n",
    "unionlist ()"
   ]
  },
  {
   "cell_type": "markdown",
   "metadata": {},
   "source": [
    "#### 9) Generalize the **\"intersection\"** function so that it receives an indefinite number of lists and returns the intersection of all of them. Call the new function **intersection2**. "
   ]
  },
  {
   "cell_type": "code",
   "execution_count": 8,
   "metadata": {},
   "outputs": [
    {
     "data": {
      "text/plain": [
       "[2]"
      ]
     },
     "execution_count": 8,
     "metadata": {},
     "output_type": "execute_result"
    }
   ],
   "source": [
    "def intersection2 (*lists):\n",
    "    return list (set.intersection(*map(set, lists)))\n",
    "intersection2 ([1,2], [2,4], [2,5])"
   ]
  },
  {
   "cell_type": "markdown",
   "metadata": {},
   "source": [
    "## Challenge\n",
    "\n",
    "#### 10) Create a function named **\"matrix\"** that implements matrix multiplication:\n",
    "    \n",
    "Given the matrices:\n",
    "    \n",
    "$A_{m\\times n}=\n",
    "\\left[\\begin{matrix}\n",
    "a_{11}&a_{12}&...&a_{1n}\\\\\n",
    "a_{21}&a_{22}&...&a_{2n}\\\\\n",
    "\\vdots &\\vdots &&\\vdots\\\\\n",
    "a_{m1}&a_{m2}&...&a_{mn}\\\\\n",
    "\\end{matrix}\\right]$\n",
    "    \n",
    "We will represent then as a list of lists.\n",
    "\n",
    "$A = [[a_{11},a_{12},...,a_{1n}],[a_{21},a_{22},...,a_{2n}], . . . ,[a_{m1},a_{m2},...,a_{mn}]]$\n",
    "\n",
    "The **\"matrix\"** funtion must receive two matrices $A$ e $B$ in the specified format and return $A\\times B$"
   ]
  },
  {
   "cell_type": "code",
   "execution_count": 15,
   "metadata": {},
   "outputs": [
    {
     "name": "stdout",
     "output_type": "stream",
     "text": [
      "Enter the number of rows of matrix A:3\n",
      "Enter the number of columns of matrix A:3\n",
      "Enter the entries in a single line (separated by space): \n",
      "1 2 5 4 7 8 9 6 4\n",
      "[[1 2 5]\n",
      " [4 7 8]\n",
      " [9 6 4]]\n"
     ]
    }
   ],
   "source": [
    "import numpy as np\n",
    "RA = int(input(\"Enter the number of rows of matrix A:\"))\n",
    "CA = int(input(\"Enter the number of columns of matrix A:\"))\n",
    "\n",
    "print(\"Enter the entries in a single line (separated by space): \")\n",
    "\n",
    "entriesA = list(map(int, input().split()))\n",
    "  \n",
    "A = np.array(entriesA).reshape(RA, CA)\n",
    "print(A)"
   ]
  },
  {
   "cell_type": "code",
   "execution_count": 16,
   "metadata": {},
   "outputs": [
    {
     "name": "stdout",
     "output_type": "stream",
     "text": [
      "Enter the number of rows of matrix B:3\n",
      "Enter the number of columns of matrix B:3\n",
      "Enter the entries in a single line (separated by space): \n",
      "4 2 6 7 5 9 8 4 1\n",
      "[[4 2 6]\n",
      " [7 5 9]\n",
      " [8 4 1]]\n"
     ]
    }
   ],
   "source": [
    "RB = int(input(\"Enter the number of rows of matrix B:\"))\n",
    "CB = int(input(\"Enter the number of columns of matrix B:\"))\n",
    "\n",
    "print(\"Enter the entries in a single line (separated by space): \")\n",
    "\n",
    "entriesB = list(map(int, input().split()))\n",
    "\n",
    "B = np.array(entriesB).reshape(RB, CB)\n",
    "print(B)"
   ]
  },
  {
   "cell_type": "code",
   "execution_count": 17,
   "metadata": {},
   "outputs": [
    {
     "name": "stdout",
     "output_type": "stream",
     "text": [
      "[[ 58  32  29]\n",
      " [129  75  95]\n",
      " [110  64 112]]\n"
     ]
    }
   ],
   "source": [
    "result = np.dot(A,B)\n",
    "\n",
    "print(result)"
   ]
  },
  {
   "cell_type": "code",
   "execution_count": null,
   "metadata": {},
   "outputs": [],
   "source": []
  }
 ],
 "metadata": {
  "kernelspec": {
   "display_name": "Python 3",
   "language": "python",
   "name": "python3"
  },
  "language_info": {
   "codemirror_mode": {
    "name": "ipython",
    "version": 3
   },
   "file_extension": ".py",
   "mimetype": "text/x-python",
   "name": "python",
   "nbconvert_exporter": "python",
   "pygments_lexer": "ipython3",
   "version": "3.8.8"
  }
 },
 "nbformat": 4,
 "nbformat_minor": 4
}
